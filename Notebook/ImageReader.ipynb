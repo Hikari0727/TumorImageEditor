{
 "cells": [
  {
   "cell_type": "code",
   "execution_count": null,
   "id": "3ff04f30",
   "metadata": {},
   "outputs": [],
   "source": [
    "import nibabel as nib\n",
    "import os\n",
    "import albumentations as A\n",
    "import numpy as np\n",
    "\n",
    "\n",
    "class ImageReader:\n",
    "    def __init__(\n",
    "        self, root:str, img_size:int=256,\n",
    "        normalize:bool=False, single_class:bool=False\n",
    "    ) -> None:\n",
    "        pad_size = 256 if img_size > 256 else 224\n",
    "        self.resize = A.Compose(\n",
    "            [\n",
    "                A.PadIfNeeded(min_height=pad_size, min_width=pad_size, value=0),\n",
    "                A.Resize(img_size, img_size)\n",
    "            ]\n",
    "        )\n",
    "        self.normalize=normalize\n",
    "        self.single_class=single_class\n",
    "        self.root=root\n",
    "        \n",
    "    def read_file(self, path:str) -> dict:\n",
    "        scan_type = path.split('_')[-1]\n",
    "        raw_image = nib.load(path).get_fdata()\n",
    "        raw_mask = nib.load(path.replace(scan_type, 'seg.nii.gz')).get_fdata()\n",
    "        processed_frames, processed_masks = [], []\n",
    "        for frame_idx in range(raw_image.shape[2]):\n",
    "            frame = raw_image[:, :, frame_idx]\n",
    "            mask = raw_mask[:, :, frame_idx]\n",
    "            resized = self.resize(image=frame, mask=mask)\n",
    "            processed_frames.append(resized['image'])\n",
    "            processed_masks.append(\n",
    "                1*(resized['mask'] > 0) if self.single_class else resized['mask']\n",
    "            )\n",
    "        scan_data = np.stack(processed_frames, 0)\n",
    "        if self.normalize:\n",
    "            if scan_data.max() > 0:\n",
    "                scan_data = scan_data/scan_data.max()\n",
    "            scan_data = scan_data.astype(np.float32)\n",
    "        return {\n",
    "            'scan': scan_data,\n",
    "            'segmentation': np.stack(processed_masks, 0),\n",
    "            'orig_shape': raw_image.shape\n",
    "        }\n",
    "    \n",
    "    def load_patient_scan(self, idx:int, scan_type:str='flair') -> dict:\n",
    "        patient_id = str(idx).zfill(5)\n",
    "        scan_filename = f'{self.root}/BraTS2021_{patient_id}/BraTS2021_{patient_id}_{scan_type}.nii.gz'\n",
    "        return self.read_file(scan_filename)"
   ]
  },
  {
   "cell_type": "code",
   "execution_count": null,
   "id": "a8481513",
   "metadata": {},
   "outputs": [],
   "source": []
  }
 ],
 "metadata": {
  "kernelspec": {
   "display_name": "Python 3 (ipykernel)",
   "language": "python",
   "name": "python3"
  },
  "language_info": {
   "codemirror_mode": {
    "name": "ipython",
    "version": 3
   },
   "file_extension": ".py",
   "mimetype": "text/x-python",
   "name": "python",
   "nbconvert_exporter": "python",
   "pygments_lexer": "ipython3",
   "version": "3.9.7"
  }
 },
 "nbformat": 4,
 "nbformat_minor": 5
}
