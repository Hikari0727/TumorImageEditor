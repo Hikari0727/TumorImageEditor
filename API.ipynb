{
 "cells": [
  {
   "cell_type": "code",
   "execution_count": 6,
   "id": "2cd6641c",
   "metadata": {},
   "outputs": [
    {
     "name": "stdout",
     "output_type": "stream",
     "text": [
      "Collecting websocket\n",
      "  Downloading websocket-0.2.1.tar.gz (195 kB)\n",
      "\u001b[K     |████████████████████████████████| 195 kB 824 kB/s eta 0:00:01\n",
      "\u001b[?25hRequirement already satisfied: gevent in /Users/mac/opt/anaconda3/lib/python3.9/site-packages (from websocket) (21.8.0)\n",
      "Requirement already satisfied: greenlet in /Users/mac/opt/anaconda3/lib/python3.9/site-packages (from websocket) (1.1.1)\n",
      "Requirement already satisfied: zope.event in /Users/mac/opt/anaconda3/lib/python3.9/site-packages (from gevent->websocket) (4.5.0)\n",
      "Requirement already satisfied: setuptools in /Users/mac/opt/anaconda3/lib/python3.9/site-packages (from gevent->websocket) (58.0.4)\n",
      "Requirement already satisfied: zope.interface in /Users/mac/opt/anaconda3/lib/python3.9/site-packages (from gevent->websocket) (5.4.0)\n",
      "Building wheels for collected packages: websocket\n",
      "  Building wheel for websocket (setup.py) ... \u001b[?25ldone\n",
      "\u001b[?25h  Created wheel for websocket: filename=websocket-0.2.1-py3-none-any.whl size=192132 sha256=1acf1fd832e2e829f4539ef7e64028bb4f8b9dfd39a3a499cc4dd08d684c9d68\n",
      "  Stored in directory: /Users/mac/Library/Caches/pip/wheels/cd/8c/c5/42beaa658f4825f4dc80634c34c5a4bb564cdd75545346fa93\n",
      "Successfully built websocket\n",
      "Installing collected packages: websocket\n",
      "Successfully installed websocket-0.2.1\n"
     ]
    }
   ],
   "source": [
    "!pip install websocket"
   ]
  },
  {
   "cell_type": "code",
   "execution_count": 27,
   "id": "5d5081e6",
   "metadata": {},
   "outputs": [
    {
     "name": "stdout",
     "output_type": "stream",
     "text": [
      "Found existing installation: websocket-client 1.4.1\n",
      "Uninstalling websocket-client-1.4.1:\n",
      "  Would remove:\n",
      "    /Users/mac/opt/anaconda3/bin/wsdump\n",
      "    /Users/mac/opt/anaconda3/lib/python3.9/site-packages/websocket/*\n",
      "    /Users/mac/opt/anaconda3/lib/python3.9/site-packages/websocket_client-1.4.1.dist-info/*\n",
      "  Would not remove (might be manually added):\n",
      "    /Users/mac/opt/anaconda3/lib/python3.9/site-packages/websocket/data/WebSocketMain.swf\n",
      "    /Users/mac/opt/anaconda3/lib/python3.9/site-packages/websocket/data/__init__.py\n",
      "    /Users/mac/opt/anaconda3/lib/python3.9/site-packages/websocket/data/flashsocket.js\n",
      "    /Users/mac/opt/anaconda3/lib/python3.9/site-packages/websocket/policyserver.py\n",
      "    /Users/mac/opt/anaconda3/lib/python3.9/site-packages/websocket/server.py\n",
      "Proceed (Y/n)? ^C\n",
      "\u001b[31mERROR: Operation cancelled by user\u001b[0m\n"
     ]
    }
   ],
   "source": [
    "!pip uninstall websocket-client"
   ]
  },
  {
   "cell_type": "code",
   "execution_count": 28,
   "id": "e3baf0fb",
   "metadata": {},
   "outputs": [
    {
     "name": "stdout",
     "output_type": "stream",
     "text": [
      "Requirement already satisfied: websocket-client in /Users/mac/opt/anaconda3/lib/python3.9/site-packages (1.4.1)\r\n"
     ]
    }
   ],
   "source": [
    "!pip3 install websocket-client"
   ]
  },
  {
   "cell_type": "code",
   "execution_count": 5,
   "id": "af2784fa",
   "metadata": {},
   "outputs": [],
   "source": [
    "# -*- encoding:utf-8 -*-\n",
    "import hashlib\n",
    "import hmac\n",
    "import base64\n",
    "from socket import *\n",
    "import json, time, threading\n",
    "import websocket\n",
    "from websocket import create_connection\n",
    "from urllib.parse import quote\n",
    "import logging\n",
    "\n",
    "# reload(sys)\n",
    "# sys.setdefaultencoding(\"utf8\")\n",
    "class Client():\n",
    "    def __init__(self):\n",
    "        base_url = \"ws://rtasr.xfyun.cn/v1/ws\"\n",
    "        ts = str(int(time.time()))\n",
    "        tt = (app_id + ts).encode('utf-8')\n",
    "        md5 = hashlib.md5()\n",
    "        md5.update(tt)\n",
    "        baseString = md5.hexdigest()\n",
    "        baseString = bytes(baseString, encoding='utf-8')\n",
    "\n",
    "        apiKey = api_key.encode('utf-8')\n",
    "        signa = hmac.new(apiKey, baseString, hashlib.sha1).digest()\n",
    "        signa = base64.b64encode(signa)\n",
    "        signa = str(signa, 'utf-8')\n",
    "        self.end_tag = \"{\\\"end\\\": true}\"\n",
    "\n",
    "        self.ws = create_connection(base_url + \"?appid=\" + app_id + \"&ts=\" + ts + \"&signa=\" + quote(signa))\n",
    "        self.trecv = threading.Thread(target=self.recv)\n",
    "        self.trecv.start()\n",
    "\n",
    "    def send(self, file_path):\n",
    "        file_object = open(file_path, 'rb')\n",
    "        try:\n",
    "            index = 1\n",
    "            while True:\n",
    "                chunk = file_object.read(1280)\n",
    "                if not chunk:\n",
    "                    break\n",
    "                self.ws.send(chunk)\n",
    "\n",
    "                index += 1\n",
    "                time.sleep(0.04)\n",
    "        finally:\n",
    "            file_object.close()\n",
    "\n",
    "        self.ws.send(bytes(self.end_tag.encode('utf-8')))\n",
    "        print(\"send end tag success\")\n",
    "\n",
    "    def recv(self):\n",
    "        try:\n",
    "            while self.ws.connected:\n",
    "                result = str(self.ws.recv())\n",
    "                if len(result) == 0:\n",
    "                    print(\"receive result end\")\n",
    "                    break\n",
    "                result_dict = json.loads(result)\n",
    "                # 解析结果\n",
    "                if result_dict[\"action\"] == \"started\":\n",
    "                    print(\"handshake success, result: \" + result)\n",
    "\n",
    "                if result_dict[\"action\"] == \"result\":\n",
    "                    result_1 = result_dict\n",
    "                    # result_2 = json.loads(result_1[\"cn\"])\n",
    "                    # result_3 = json.loads(result_2[\"st\"])\n",
    "                    # result_4 = json.loads(result_3[\"rt\"])\n",
    "                    print(\"rtasr result: \" + result_1[\"data\"])\n",
    "\n",
    "                if result_dict[\"action\"] == \"error\":\n",
    "                    print(\"rtasr error: \" + result)\n",
    "                    self.ws.close()\n",
    "                    return\n",
    "        except websocket.WebSocketConnectionClosedException:\n",
    "            print(\"receive result end\")\n",
    "\n",
    "    def close(self):\n",
    "        self.ws.close()\n",
    "        print(\"connection closed\")\n"
   ]
  },
  {
   "cell_type": "code",
   "execution_count": 7,
   "id": "6d67792f",
   "metadata": {
    "scrolled": false
   },
   "outputs": [
    {
     "name": "stdout",
     "output_type": "stream",
     "text": [
      "handshake success, result: {\"action\":\"started\",\"code\":\"0\",\"data\":\"\",\"desc\":\"success\",\"sid\":\"rta008d07f3@dx1e8a169cd81f000100\"}\n",
      "rtasr result: {\"seg_id\":0,\"cn\":{\"st\":{\"rt\":[{\"ws\":[{\"cw\":[{\"sc\":0.00,\"w\":\"床\",\"wp\":\"n\",\"rl\":\"0\",\"wb\":10,\"wc\":0.00,\"we\":20}],\"wb\":0,\"we\":0},{\"cw\":[{\"sc\":0.00,\"w\":\"前\",\"wp\":\"n\",\"rl\":\"0\",\"wb\":20,\"wc\":0.00,\"we\":30}],\"wb\":0,\"we\":0}]}],\"bg\":\"0\",\"type\":\"1\",\"ed\":\"0\"}},\"ls\":false}\n",
      "rtasr result: {\"seg_id\":1,\"cn\":{\"st\":{\"rt\":[{\"ws\":[{\"cw\":[{\"sc\":0.00,\"w\":\"床\",\"wp\":\"n\",\"rl\":\"0\",\"wb\":13,\"wc\":0.00,\"we\":26}],\"wb\":0,\"we\":0},{\"cw\":[{\"sc\":0.00,\"w\":\"前\",\"wp\":\"n\",\"rl\":\"0\",\"wb\":26,\"wc\":0.00,\"we\":39}],\"wb\":0,\"we\":0},{\"cw\":[{\"sc\":0.00,\"w\":\"明\",\"wp\":\"n\",\"rl\":\"0\",\"wb\":39,\"wc\":0.00,\"we\":52}],\"wb\":0,\"we\":0},{\"cw\":[{\"sc\":0.00,\"w\":\"月光\",\"wp\":\"n\",\"rl\":\"0\",\"wb\":52,\"wc\":0.00,\"we\":65}],\"wb\":0,\"we\":0}]}],\"bg\":\"130\",\"type\":\"1\",\"ed\":\"0\"}},\"ls\":false}\n",
      "rtasr result: {\"seg_id\":2,\"cn\":{\"st\":{\"rt\":[{\"ws\":[{\"cw\":[{\"sc\":0.00,\"w\":\"床\",\"wp\":\"n\",\"rl\":\"0\",\"wb\":22,\"wc\":0.00,\"we\":44}],\"wb\":0,\"we\":0},{\"cw\":[{\"sc\":0.00,\"w\":\"前\",\"wp\":\"n\",\"rl\":\"0\",\"wb\":44,\"wc\":0.00,\"we\":66}],\"wb\":0,\"we\":0},{\"cw\":[{\"sc\":0.00,\"w\":\"明\",\"wp\":\"n\",\"rl\":\"0\",\"wb\":66,\"wc\":0.00,\"we\":88}],\"wb\":0,\"we\":0},{\"cw\":[{\"sc\":0.00,\"w\":\"月光\",\"wp\":\"n\",\"rl\":\"0\",\"wb\":88,\"wc\":0.00,\"we\":110}],\"wb\":0,\"we\":0},{\"cw\":[{\"sc\":0.00,\"w\":\"，\",\"wp\":\"p\",\"rl\":\"0\",\"wb\":110,\"wc\":0.00,\"we\":110}],\"wb\":0,\"we\":0},{\"cw\":[{\"sc\":0.00,\"w\":\"疑\",\"wp\":\"n\",\"rl\":\"0\",\"wb\":110,\"wc\":0.00,\"we\":132}],\"wb\":0,\"we\":0},{\"cw\":[{\"sc\":0.00,\"w\":\"是\",\"wp\":\"n\",\"rl\":\"0\",\"wb\":132,\"wc\":0.00,\"we\":154}],\"wb\":0,\"we\":0},{\"cw\":[{\"sc\":0.00,\"w\":\"地上\",\"wp\":\"n\",\"rl\":\"0\",\"wb\":154,\"wc\":0.00,\"we\":176}],\"wb\":0,\"we\":0}]}],\"bg\":\"220\",\"type\":\"1\",\"ed\":\"0\"}},\"ls\":false}\n",
      "rtasr result: {\"seg_id\":3,\"cn\":{\"st\":{\"rt\":[{\"ws\":[{\"cw\":[{\"sc\":0.00,\"w\":\"床\",\"wp\":\"n\",\"rl\":\"0\",\"wb\":24,\"wc\":0.00,\"we\":48}],\"wb\":0,\"we\":0},{\"cw\":[{\"sc\":0.00,\"w\":\"前\",\"wp\":\"n\",\"rl\":\"0\",\"wb\":48,\"wc\":0.00,\"we\":72}],\"wb\":0,\"we\":0},{\"cw\":[{\"sc\":0.00,\"w\":\"明\",\"wp\":\"n\",\"rl\":\"0\",\"wb\":72,\"wc\":0.00,\"we\":96}],\"wb\":0,\"we\":0},{\"cw\":[{\"sc\":0.00,\"w\":\"月光\",\"wp\":\"n\",\"rl\":\"0\",\"wb\":96,\"wc\":0.00,\"we\":120}],\"wb\":0,\"we\":0},{\"cw\":[{\"sc\":0.00,\"w\":\"，\",\"wp\":\"p\",\"rl\":\"0\",\"wb\":120,\"wc\":0.00,\"we\":120}],\"wb\":0,\"we\":0},{\"cw\":[{\"sc\":0.00,\"w\":\"疑\",\"wp\":\"n\",\"rl\":\"0\",\"wb\":120,\"wc\":0.00,\"we\":144}],\"wb\":0,\"we\":0},{\"cw\":[{\"sc\":0.00,\"w\":\"是\",\"wp\":\"n\",\"rl\":\"0\",\"wb\":144,\"wc\":0.00,\"we\":168}],\"wb\":0,\"we\":0},{\"cw\":[{\"sc\":0.00,\"w\":\"地上\",\"wp\":\"n\",\"rl\":\"0\",\"wb\":168,\"wc\":0.00,\"we\":192}],\"wb\":0,\"we\":0},{\"cw\":[{\"sc\":0.00,\"w\":\"霜\",\"wp\":\"n\",\"rl\":\"0\",\"wb\":192,\"wc\":0.00,\"we\":216}],\"wb\":0,\"we\":0}]}],\"bg\":\"240\",\"type\":\"1\",\"ed\":\"0\"}},\"ls\":false}\n",
      "rtasr result: {\"seg_id\":4,\"cn\":{\"st\":{\"rt\":[{\"ws\":[{\"cw\":[{\"sc\":0.00,\"w\":\"床\",\"wp\":\"n\",\"rl\":\"0\",\"wb\":25,\"wc\":0.00,\"we\":50}],\"wb\":0,\"we\":0},{\"cw\":[{\"sc\":0.00,\"w\":\"前\",\"wp\":\"n\",\"rl\":\"0\",\"wb\":50,\"wc\":0.00,\"we\":75}],\"wb\":0,\"we\":0},{\"cw\":[{\"sc\":0.00,\"w\":\"明\",\"wp\":\"n\",\"rl\":\"0\",\"wb\":75,\"wc\":0.00,\"we\":100}],\"wb\":0,\"we\":0},{\"cw\":[{\"sc\":0.00,\"w\":\"月光\",\"wp\":\"n\",\"rl\":\"0\",\"wb\":100,\"wc\":0.00,\"we\":125}],\"wb\":0,\"we\":0},{\"cw\":[{\"sc\":0.00,\"w\":\"，\",\"wp\":\"p\",\"rl\":\"0\",\"wb\":125,\"wc\":0.00,\"we\":125}],\"wb\":0,\"we\":0},{\"cw\":[{\"sc\":0.00,\"w\":\"疑\",\"wp\":\"n\",\"rl\":\"0\",\"wb\":125,\"wc\":0.00,\"we\":150}],\"wb\":0,\"we\":0},{\"cw\":[{\"sc\":0.00,\"w\":\"是\",\"wp\":\"n\",\"rl\":\"0\",\"wb\":150,\"wc\":0.00,\"we\":175}],\"wb\":0,\"we\":0},{\"cw\":[{\"sc\":0.00,\"w\":\"地上\",\"wp\":\"n\",\"rl\":\"0\",\"wb\":175,\"wc\":0.00,\"we\":200}],\"wb\":0,\"we\":0},{\"cw\":[{\"sc\":0.00,\"w\":\"霜\",\"wp\":\"n\",\"rl\":\"0\",\"wb\":200,\"wc\":0.00,\"we\":225}],\"wb\":0,\"we\":0},{\"cw\":[{\"sc\":0.00,\"w\":\"举\",\"wp\":\"n\",\"rl\":\"0\",\"wb\":225,\"wc\":0.00,\"we\":250}],\"wb\":0,\"we\":0}]}],\"bg\":\"250\",\"type\":\"1\",\"ed\":\"0\"}},\"ls\":false}\n",
      "rtasr result: {\"seg_id\":5,\"cn\":{\"st\":{\"rt\":[{\"ws\":[{\"cw\":[{\"sc\":0.00,\"w\":\"床\",\"wp\":\"n\",\"rl\":\"0\",\"wb\":23,\"wc\":0.00,\"we\":46}],\"wb\":0,\"we\":0},{\"cw\":[{\"sc\":0.00,\"w\":\"前\",\"wp\":\"n\",\"rl\":\"0\",\"wb\":46,\"wc\":0.00,\"we\":69}],\"wb\":0,\"we\":0},{\"cw\":[{\"sc\":0.00,\"w\":\"明\",\"wp\":\"n\",\"rl\":\"0\",\"wb\":69,\"wc\":0.00,\"we\":92}],\"wb\":0,\"we\":0},{\"cw\":[{\"sc\":0.00,\"w\":\"月光\",\"wp\":\"n\",\"rl\":\"0\",\"wb\":92,\"wc\":0.00,\"we\":115}],\"wb\":0,\"we\":0},{\"cw\":[{\"sc\":0.00,\"w\":\"，\",\"wp\":\"p\",\"rl\":\"0\",\"wb\":115,\"wc\":0.00,\"we\":115}],\"wb\":0,\"we\":0},{\"cw\":[{\"sc\":0.00,\"w\":\"疑\",\"wp\":\"n\",\"rl\":\"0\",\"wb\":115,\"wc\":0.00,\"we\":138}],\"wb\":0,\"we\":0},{\"cw\":[{\"sc\":0.00,\"w\":\"是\",\"wp\":\"n\",\"rl\":\"0\",\"wb\":138,\"wc\":0.00,\"we\":161}],\"wb\":0,\"we\":0},{\"cw\":[{\"sc\":0.00,\"w\":\"地上\",\"wp\":\"n\",\"rl\":\"0\",\"wb\":161,\"wc\":0.00,\"we\":184}],\"wb\":0,\"we\":0},{\"cw\":[{\"sc\":0.00,\"w\":\"霜\",\"wp\":\"n\",\"rl\":\"0\",\"wb\":184,\"wc\":0.00,\"we\":207}],\"wb\":0,\"we\":0},{\"cw\":[{\"sc\":0.00,\"w\":\"，\",\"wp\":\"p\",\"rl\":\"0\",\"wb\":207,\"wc\":0.00,\"we\":207}],\"wb\":0,\"we\":0},{\"cw\":[{\"sc\":0.00,\"w\":\"举\",\"wp\":\"n\",\"rl\":\"0\",\"wb\":207,\"wc\":0.00,\"we\":230}],\"wb\":0,\"we\":0},{\"cw\":[{\"sc\":0.00,\"w\":\"头\",\"wp\":\"n\",\"rl\":\"0\",\"wb\":230,\"wc\":0.00,\"we\":253}],\"wb\":0,\"we\":0}]}],\"bg\":\"230\",\"type\":\"1\",\"ed\":\"0\"}},\"ls\":false}\n",
      "rtasr result: {\"seg_id\":6,\"cn\":{\"st\":{\"rt\":[{\"ws\":[{\"cw\":[{\"sc\":0.00,\"w\":\"床\",\"wp\":\"n\",\"rl\":\"0\",\"wb\":24,\"wc\":0.00,\"we\":48}],\"wb\":0,\"we\":0},{\"cw\":[{\"sc\":0.00,\"w\":\"前\",\"wp\":\"n\",\"rl\":\"0\",\"wb\":48,\"wc\":0.00,\"we\":72}],\"wb\":0,\"we\":0},{\"cw\":[{\"sc\":0.00,\"w\":\"明\",\"wp\":\"n\",\"rl\":\"0\",\"wb\":72,\"wc\":0.00,\"we\":96}],\"wb\":0,\"we\":0},{\"cw\":[{\"sc\":0.00,\"w\":\"月光\",\"wp\":\"n\",\"rl\":\"0\",\"wb\":96,\"wc\":0.00,\"we\":120}],\"wb\":0,\"we\":0},{\"cw\":[{\"sc\":0.00,\"w\":\"，\",\"wp\":\"p\",\"rl\":\"0\",\"wb\":120,\"wc\":0.00,\"we\":120}],\"wb\":0,\"we\":0},{\"cw\":[{\"sc\":0.00,\"w\":\"疑\",\"wp\":\"n\",\"rl\":\"0\",\"wb\":120,\"wc\":0.00,\"we\":144}],\"wb\":0,\"we\":0},{\"cw\":[{\"sc\":0.00,\"w\":\"是\",\"wp\":\"n\",\"rl\":\"0\",\"wb\":144,\"wc\":0.00,\"we\":168}],\"wb\":0,\"we\":0},{\"cw\":[{\"sc\":0.00,\"w\":\"地上\",\"wp\":\"n\",\"rl\":\"0\",\"wb\":168,\"wc\":0.00,\"we\":192}],\"wb\":0,\"we\":0},{\"cw\":[{\"sc\":0.00,\"w\":\"霜\",\"wp\":\"n\",\"rl\":\"0\",\"wb\":192,\"wc\":0.00,\"we\":216}],\"wb\":0,\"we\":0},{\"cw\":[{\"sc\":0.00,\"w\":\"，\",\"wp\":\"p\",\"rl\":\"0\",\"wb\":216,\"wc\":0.00,\"we\":216}],\"wb\":0,\"we\":0},{\"cw\":[{\"sc\":0.00,\"w\":\"举\",\"wp\":\"n\",\"rl\":\"0\",\"wb\":216,\"wc\":0.00,\"we\":240}],\"wb\":0,\"we\":0},{\"cw\":[{\"sc\":0.00,\"w\":\"头\",\"wp\":\"n\",\"rl\":\"0\",\"wb\":240,\"wc\":0.00,\"we\":264}],\"wb\":0,\"we\":0},{\"cw\":[{\"sc\":0.00,\"w\":\"道\",\"wp\":\"n\",\"rl\":\"0\",\"wb\":264,\"wc\":0.00,\"we\":288}],\"wb\":0,\"we\":0}]}],\"bg\":\"240\",\"type\":\"1\",\"ed\":\"0\"}},\"ls\":false}\n",
      "rtasr result: {\"seg_id\":7,\"cn\":{\"st\":{\"rt\":[{\"ws\":[{\"cw\":[{\"sc\":0.00,\"w\":\"床\",\"wp\":\"n\",\"rl\":\"0\",\"wb\":25,\"wc\":0.00,\"we\":50}],\"wb\":0,\"we\":0},{\"cw\":[{\"sc\":0.00,\"w\":\"前\",\"wp\":\"n\",\"rl\":\"0\",\"wb\":50,\"wc\":0.00,\"we\":75}],\"wb\":0,\"we\":0},{\"cw\":[{\"sc\":0.00,\"w\":\"明\",\"wp\":\"n\",\"rl\":\"0\",\"wb\":75,\"wc\":0.00,\"we\":100}],\"wb\":0,\"we\":0},{\"cw\":[{\"sc\":0.00,\"w\":\"月光\",\"wp\":\"n\",\"rl\":\"0\",\"wb\":100,\"wc\":0.00,\"we\":125}],\"wb\":0,\"we\":0},{\"cw\":[{\"sc\":0.00,\"w\":\"，\",\"wp\":\"p\",\"rl\":\"0\",\"wb\":125,\"wc\":0.00,\"we\":125}],\"wb\":0,\"we\":0},{\"cw\":[{\"sc\":0.00,\"w\":\"疑\",\"wp\":\"n\",\"rl\":\"0\",\"wb\":125,\"wc\":0.00,\"we\":150}],\"wb\":0,\"we\":0},{\"cw\":[{\"sc\":0.00,\"w\":\"是\",\"wp\":\"n\",\"rl\":\"0\",\"wb\":150,\"wc\":0.00,\"we\":175}],\"wb\":0,\"we\":0},{\"cw\":[{\"sc\":0.00,\"w\":\"地上\",\"wp\":\"n\",\"rl\":\"0\",\"wb\":175,\"wc\":0.00,\"we\":200}],\"wb\":0,\"we\":0},{\"cw\":[{\"sc\":0.00,\"w\":\"霜\",\"wp\":\"n\",\"rl\":\"0\",\"wb\":200,\"wc\":0.00,\"we\":225}],\"wb\":0,\"we\":0},{\"cw\":[{\"sc\":0.00,\"w\":\"，\",\"wp\":\"p\",\"rl\":\"0\",\"wb\":225,\"wc\":0.00,\"we\":225}],\"wb\":0,\"we\":0},{\"cw\":[{\"sc\":0.00,\"w\":\"举\",\"wp\":\"n\",\"rl\":\"0\",\"wb\":225,\"wc\":0.00,\"we\":250}],\"wb\":0,\"we\":0},{\"cw\":[{\"sc\":0.00,\"w\":\"头\",\"wp\":\"n\",\"rl\":\"0\",\"wb\":250,\"wc\":0.00,\"we\":275}],\"wb\":0,\"we\":0},{\"cw\":[{\"sc\":0.00,\"w\":\"望\",\"wp\":\"n\",\"rl\":\"0\",\"wb\":275,\"wc\":0.00,\"we\":300}],\"wb\":0,\"we\":0},{\"cw\":[{\"sc\":0.00,\"w\":\"明月\",\"wp\":\"n\",\"rl\":\"0\",\"wb\":300,\"wc\":0.00,\"we\":325}],\"wb\":0,\"we\":0}]}],\"bg\":\"250\",\"type\":\"1\",\"ed\":\"0\"}},\"ls\":false}\n",
      "send end tag success\n",
      "rtasr result: {\"seg_id\":8,\"cn\":{\"st\":{\"rt\":[{\"ws\":[{\"cw\":[{\"sc\":0.00,\"w\":\"床\",\"wp\":\"n\",\"rl\":\"0\",\"wb\":26,\"wc\":0.00,\"we\":52}],\"wb\":0,\"we\":0},{\"cw\":[{\"sc\":0.00,\"w\":\"前\",\"wp\":\"n\",\"rl\":\"0\",\"wb\":52,\"wc\":0.00,\"we\":78}],\"wb\":0,\"we\":0},{\"cw\":[{\"sc\":0.00,\"w\":\"明\",\"wp\":\"n\",\"rl\":\"0\",\"wb\":78,\"wc\":0.00,\"we\":104}],\"wb\":0,\"we\":0},{\"cw\":[{\"sc\":0.00,\"w\":\"月光\",\"wp\":\"n\",\"rl\":\"0\",\"wb\":104,\"wc\":0.00,\"we\":130}],\"wb\":0,\"we\":0},{\"cw\":[{\"sc\":0.00,\"w\":\"，\",\"wp\":\"p\",\"rl\":\"0\",\"wb\":130,\"wc\":0.00,\"we\":130}],\"wb\":0,\"we\":0},{\"cw\":[{\"sc\":0.00,\"w\":\"疑\",\"wp\":\"n\",\"rl\":\"0\",\"wb\":130,\"wc\":0.00,\"we\":156}],\"wb\":0,\"we\":0},{\"cw\":[{\"sc\":0.00,\"w\":\"是\",\"wp\":\"n\",\"rl\":\"0\",\"wb\":156,\"wc\":0.00,\"we\":182}],\"wb\":0,\"we\":0},{\"cw\":[{\"sc\":0.00,\"w\":\"地上\",\"wp\":\"n\",\"rl\":\"0\",\"wb\":182,\"wc\":0.00,\"we\":208}],\"wb\":0,\"we\":0},{\"cw\":[{\"sc\":0.00,\"w\":\"霜\",\"wp\":\"n\",\"rl\":\"0\",\"wb\":208,\"wc\":0.00,\"we\":234}],\"wb\":0,\"we\":0},{\"cw\":[{\"sc\":0.00,\"w\":\"！\",\"wp\":\"p\",\"rl\":\"0\",\"wb\":234,\"wc\":0.00,\"we\":234}],\"wb\":0,\"we\":0},{\"cw\":[{\"sc\":0.00,\"w\":\"举\",\"wp\":\"n\",\"rl\":\"0\",\"wb\":234,\"wc\":0.00,\"we\":260}],\"wb\":0,\"we\":0},{\"cw\":[{\"sc\":0.00,\"w\":\"头\",\"wp\":\"n\",\"rl\":\"0\",\"wb\":260,\"wc\":0.00,\"we\":286}],\"wb\":0,\"we\":0},{\"cw\":[{\"sc\":0.00,\"w\":\"望\",\"wp\":\"n\",\"rl\":\"0\",\"wb\":286,\"wc\":0.00,\"we\":312}],\"wb\":0,\"we\":0},{\"cw\":[{\"sc\":0.00,\"w\":\"明月\",\"wp\":\"n\",\"rl\":\"0\",\"wb\":312,\"wc\":0.00,\"we\":338}],\"wb\":0,\"we\":0},{\"cw\":[{\"sc\":0.00,\"w\":\"，\",\"wp\":\"p\",\"rl\":\"0\",\"wb\":338,\"wc\":0.00,\"we\":338}],\"wb\":0,\"we\":0},{\"cw\":[{\"sc\":0.00,\"w\":\"低头\",\"wp\":\"n\",\"rl\":\"0\",\"wb\":338,\"wc\":0.00,\"we\":364}],\"wb\":0,\"we\":0}]}],\"bg\":\"260\",\"type\":\"1\",\"ed\":\"0\"}},\"ls\":false}\n"
     ]
    },
    {
     "name": "stdout",
     "output_type": "stream",
     "text": [
      "rtasr result: {\"seg_id\":9,\"cn\":{\"st\":{\"rt\":[{\"ws\":[{\"cw\":[{\"sc\":0.00,\"w\":\"床\",\"wp\":\"n\",\"rl\":\"0\",\"wb\":1,\"wc\":0.00,\"we\":20}],\"wb\":1,\"we\":20},{\"cw\":[{\"sc\":0.00,\"w\":\"前\",\"wp\":\"n\",\"rl\":\"0\",\"wb\":21,\"wc\":0.00,\"we\":40}],\"wb\":21,\"we\":40},{\"cw\":[{\"sc\":0.00,\"w\":\"明\",\"wp\":\"n\",\"rl\":\"0\",\"wb\":41,\"wc\":0.00,\"we\":64}],\"wb\":41,\"we\":64},{\"cw\":[{\"sc\":0.00,\"w\":\"月光\",\"wp\":\"n\",\"rl\":\"0\",\"wb\":65,\"wc\":0.00,\"we\":116}],\"wb\":65,\"we\":116},{\"cw\":[{\"sc\":0.00,\"w\":\"，\",\"wp\":\"p\",\"rl\":\"0\",\"wb\":121,\"wc\":0.00,\"we\":121}],\"wb\":121,\"we\":121},{\"cw\":[{\"sc\":0.00,\"w\":\"疑\",\"wp\":\"n\",\"rl\":\"0\",\"wb\":121,\"wc\":0.00,\"we\":148}],\"wb\":121,\"we\":148},{\"cw\":[{\"sc\":0.00,\"w\":\"是\",\"wp\":\"n\",\"rl\":\"0\",\"wb\":149,\"wc\":0.00,\"we\":164}],\"wb\":149,\"we\":164},{\"cw\":[{\"sc\":0.00,\"w\":\"地上\",\"wp\":\"n\",\"rl\":\"0\",\"wb\":165,\"wc\":0.00,\"we\":208}],\"wb\":165,\"we\":208},{\"cw\":[{\"sc\":0.00,\"w\":\"霜\",\"wp\":\"n\",\"rl\":\"0\",\"wb\":209,\"wc\":0.00,\"we\":244}],\"wb\":209,\"we\":244},{\"cw\":[{\"sc\":0.00,\"w\":\"，\",\"wp\":\"p\",\"rl\":\"0\",\"wb\":249,\"wc\":0.00,\"we\":249}],\"wb\":249,\"we\":249},{\"cw\":[{\"sc\":0.00,\"w\":\"举\",\"wp\":\"n\",\"rl\":\"0\",\"wb\":249,\"wc\":0.00,\"we\":276}],\"wb\":249,\"we\":276},{\"cw\":[{\"sc\":0.00,\"w\":\"头\",\"wp\":\"n\",\"rl\":\"0\",\"wb\":277,\"wc\":0.00,\"we\":292}],\"wb\":277,\"we\":292},{\"cw\":[{\"sc\":0.00,\"w\":\"望\",\"wp\":\"n\",\"rl\":\"0\",\"wb\":293,\"wc\":0.00,\"we\":308}],\"wb\":293,\"we\":308},{\"cw\":[{\"sc\":0.00,\"w\":\"明月\",\"wp\":\"n\",\"rl\":\"0\",\"wb\":309,\"wc\":0.00,\"we\":360}],\"wb\":309,\"we\":360},{\"cw\":[{\"sc\":0.00,\"w\":\"，\",\"wp\":\"p\",\"rl\":\"0\",\"wb\":365,\"wc\":0.00,\"we\":365}],\"wb\":365,\"we\":365},{\"cw\":[{\"sc\":0.00,\"w\":\"低头\",\"wp\":\"n\",\"rl\":\"0\",\"wb\":365,\"wc\":0.00,\"we\":416}],\"wb\":365,\"we\":416},{\"cw\":[{\"sc\":0.00,\"w\":\"思\",\"wp\":\"n\",\"rl\":\"0\",\"wb\":417,\"wc\":0.00,\"we\":432}],\"wb\":417,\"we\":432},{\"cw\":[{\"sc\":0.00,\"w\":\"故乡\",\"wp\":\"n\",\"rl\":\"0\",\"wb\":433,\"wc\":0.00,\"we\":468}],\"wb\":433,\"we\":468},{\"cw\":[{\"sc\":0.00,\"w\":\"。\",\"wp\":\"p\",\"rl\":\"0\",\"wb\":468,\"wc\":0.00,\"we\":468}],\"wb\":468,\"we\":468}]}],\"bg\":\"0\",\"type\":\"0\",\"ed\":\"4770\"}},\"ls\":true}\n",
      "receive result end\n"
     ]
    }
   ],
   "source": [
    "if __name__ == '__main__':\n",
    "    logging.basicConfig()\n",
    "\n",
    "    app_id = \"fb41b9d3\"\n",
    "    api_key = \"76fe5ecced751ed5f9395d0c5a39e92b\"\n",
    "    file_path = r\"./test_1.pcm\"\n",
    "\n",
    "    client = Client()\n",
    "    client.send(file_path)\n",
    "\n"
   ]
  },
  {
   "cell_type": "code",
   "execution_count": 9,
   "id": "a90c28c2",
   "metadata": {},
   "outputs": [
    {
     "name": "stdout",
     "output_type": "stream",
     "text": [
      "handshake success, result: {\"action\":\"started\",\"code\":\"0\",\"data\":\"\",\"desc\":\"success\",\"sid\":\"rta008d14bf@dx1e8a169cecec000100\"}\n",
      "send end tag success\n",
      "rtasr result: {\"seg_id\":0,\"cn\":{\"st\":{\"rt\":[{\"ws\":[{\"cw\":[{\"sc\":0.00,\"w\":\"\",\"wp\":\"n\",\"rl\":\"0\",\"wb\":0,\"wc\":0.00,\"we\":0}],\"wb\":0,\"we\":0}]}],\"bg\":\"0\",\"type\":\"0\",\"ed\":\"0\"}},\"ls\":true}\n",
      "receive result end\n"
     ]
    }
   ],
   "source": [
    "if __name__ == '__main__':\n",
    "    logging.basicConfig()\n",
    "\n",
    "    app_id = \"fb41b9d3\"\n",
    "    api_key = \"76fe5ecced751ed5f9395d0c5a39e92b\"\n",
    "    file_path = r\"./test_2.wav\"\n",
    "\n",
    "    client = Client()\n",
    "    client.send(file_path)\n"
   ]
  },
  {
   "cell_type": "code",
   "execution_count": null,
   "id": "2ccdabd0",
   "metadata": {},
   "outputs": [],
   "source": []
  }
 ],
 "metadata": {
  "kernelspec": {
   "display_name": "Python 3 (ipykernel)",
   "language": "python",
   "name": "python3"
  },
  "language_info": {
   "codemirror_mode": {
    "name": "ipython",
    "version": 3
   },
   "file_extension": ".py",
   "mimetype": "text/x-python",
   "name": "python",
   "nbconvert_exporter": "python",
   "pygments_lexer": "ipython3",
   "version": "3.9.7"
  }
 },
 "nbformat": 4,
 "nbformat_minor": 5
}
